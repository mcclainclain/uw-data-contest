{
 "cells": [
  {
   "cell_type": "markdown",
   "id": "73279ba3-7972-414e-be65-88151b0d154d",
   "metadata": {},
   "source": [
    "# UW Athletics Data Contest: Web Scraping"
   ]
  },
  {
   "cell_type": "markdown",
   "id": "5d7f8664-94e3-4f49-9082-448d8df18c6b",
   "metadata": {},
   "source": [
    "**Objective**: Scrape all relevant data for all sports in the current (as of 2023) SEC schools.\n",
    "Also scrape census data for the hometowns of these players."
   ]
  },
  {
   "cell_type": "markdown",
   "id": "269b579d-40c5-4902-9da1-9b424514b35f",
   "metadata": {},
   "source": [
    "## Setup"
   ]
  },
  {
   "cell_type": "code",
   "execution_count": 6,
   "id": "1242b072-d766-43f8-92a6-dd186777f635",
   "metadata": {},
   "outputs": [],
   "source": [
    "# Selenium imports for scraping with javascript\n",
    "from selenium.webdriver.chrome.options import Options\n",
    "from selenium.webdriver.chrome.service import Service\n",
    "from selenium import webdriver\n",
    "import pandas as pd # for table parsing"
   ]
  },
  {
   "cell_type": "markdown",
   "id": "62be24fc-67c0-403d-8e5b-e0dbfeddf432",
   "metadata": {},
   "source": [
    "### URL Setup and School Names"
   ]
  },
  {
   "cell_type": "code",
   "execution_count": 7,
   "id": "d6c1352d-b1fd-447d-b13f-77bf807929cb",
   "metadata": {},
   "outputs": [],
   "source": [
    "schools = [\n",
    "    {'name': 'Missouri', 'url': 'https://mutigers.com', 'type': 1},\n",
    "    {'name': 'Kentucky', 'url': 'https://ukathletics.com', 'type': 1},\n",
    "    {'name': 'Alabama', 'url': 'https://rolltide.com', 'type': 1},\n",
    "    {'name': 'Auburn', 'url': 'https://auburntigers.com', 'type': 1},\n",
    "    {'name': 'Georgia', 'url': 'https://georgiadogs.com', 'type': 1},\n",
    "    {'name': 'Vanderbilt', 'url': 'https://vucommodores.com', 'type': 1},\n",
    "    {'name': 'Arkansas', 'url': 'https://arkansasrazorbacks.com', 'type': 1},\n",
    "    {'name': 'Texas A&M', 'url': 'https://12thman.com', 'type': 1},\n",
    "    {'name': 'Tennessee', 'url': 'https://utsports.com', 'type': 1},\n",
    "    {'name': 'Florida', 'url': 'https://floridagators.com', 'type': 1},\n",
    "    {'name': 'Ole Miss', 'url': 'https://olemisssports.com', 'type': 1},\n",
    "    {'name': 'South Carolina', 'url': 'https://gamecocksonline.com', 'type': 1},\n",
    "    {'name': 'Mississippi State', 'url': 'https://hailstate.com', 'type': 1},\n",
    "    {'name': 'LSU', 'url': 'https://lsusports.net', 'type': 1}\n",
    "          ]"
   ]
  },
  {
   "cell_type": "markdown",
   "id": "92e76520-5b68-4312-886a-04edbc21b5d0",
   "metadata": {},
   "source": [
    "I give each school a `type` value so that we can designate how their website is structured, and scrape accordingly. I initialized all of these to $1$ and hardcoded them in as I went on depending on what I found when scraping the sites, and adjusted my scraping code accordingly."
   ]
  },
  {
   "cell_type": "code",
   "execution_count": 8,
   "id": "57bf2753-5583-4911-aef6-fa413fa0a12b",
   "metadata": {},
   "outputs": [],
   "source": [
    "sport_names = [\n",
    "    \"baseball\",\n",
    "    \"softball\",\n",
    "    \"mens-basketball\",\n",
    "    \"womens-basketball\",\n",
    "    \"cross-country\",\n",
    "    \"football\",\n",
    "    \"mens-golf\",\n",
    "    \"womens-golf\",\n",
    "    \"mens-swimming-and-diving\",\n",
    "    \"womens-swimming-and-diving\",\n",
    "    \"womens-gymnastics\",\n",
    "    \"womens-soccer\",\n",
    "    \"track-and-field\",\n",
    "    \"wrestling\",\n",
    "    \"mens-tennis\",\n",
    "    \"womens-tennis\",\n",
    "    \"womens-volleyball\"\n",
    "]"
   ]
  },
  {
   "cell_type": "markdown",
   "id": "a5fb1a06-a8a5-4fb2-8979-78b00b137da6",
   "metadata": {},
   "source": [
    "## Scraping Functions"
   ]
  },
  {
   "cell_type": "code",
   "execution_count": null,
   "id": "0108c35f-fd46-42ea-a6d3-4bbfaba4968a",
   "metadata": {},
   "outputs": [],
   "source": []
  }
 ],
 "metadata": {
  "kernelspec": {
   "display_name": "Python 3 (ipykernel)",
   "language": "python",
   "name": "python3"
  },
  "language_info": {
   "codemirror_mode": {
    "name": "ipython",
    "version": 3
   },
   "file_extension": ".py",
   "mimetype": "text/x-python",
   "name": "python",
   "nbconvert_exporter": "python",
   "pygments_lexer": "ipython3",
   "version": "3.10.12"
  }
 },
 "nbformat": 4,
 "nbformat_minor": 5
}
