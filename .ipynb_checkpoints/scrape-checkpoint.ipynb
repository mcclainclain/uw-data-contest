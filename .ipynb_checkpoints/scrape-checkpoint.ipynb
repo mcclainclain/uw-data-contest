{
 "cells": [
  {
   "cell_type": "markdown",
   "id": "73279ba3-7972-414e-be65-88151b0d154d",
   "metadata": {},
   "source": [
    "# UW Athletics Data Contest: Web Scraping"
   ]
  },
  {
   "cell_type": "markdown",
   "id": "5d7f8664-94e3-4f49-9082-448d8df18c6b",
   "metadata": {},
   "source": [
    "**Objective**: Scrape all relevant data for all sports in the current (as of 2023) SEC schools.\n",
    "Also scrape census data for the hometowns of these players."
   ]
  },
  {
   "cell_type": "markdown",
   "id": "269b579d-40c5-4902-9da1-9b424514b35f",
   "metadata": {},
   "source": [
    "## Setup"
   ]
  },
  {
   "cell_type": "code",
   "execution_count": 1,
   "id": "1242b072-d766-43f8-92a6-dd186777f635",
   "metadata": {},
   "outputs": [],
   "source": [
    "# Selenium imports for scraping with javascript\n",
    "from selenium.webdriver.chrome.options import Options\n",
    "from selenium.webdriver.chrome.service import Service\n",
    "from selenium import webdriver\n",
    "import pandas as pd # for table parsing"
   ]
  },
  {
   "cell_type": "markdown",
   "id": "62be24fc-67c0-403d-8e5b-e0dbfeddf432",
   "metadata": {},
   "source": [
    "### URL Setup and School Names"
   ]
  },
  {
   "cell_type": "code",
   "execution_count": 2,
   "id": "d6c1352d-b1fd-447d-b13f-77bf807929cb",
   "metadata": {},
   "outputs": [],
   "source": [
    "schools = [\n",
    "    {'name': 'Missouri', 'url': 'https://mutigers.com', 'type': 1},\n",
    "    {'name': 'Kentucky', 'url': 'https://ukathletics.com', 'type': 1},\n",
    "    {'name': 'Alabama', 'url': 'https://rolltide.com', 'type': 1},\n",
    "    {'name': 'Auburn', 'url': 'https://auburntigers.com', 'type': 1},\n",
    "    {'name': 'Georgia', 'url': 'https://georgiadogs.com', 'type': 1},\n",
    "    {'name': 'Vanderbilt', 'url': 'https://vucommodores.com', 'type': 1},\n",
    "    {'name': 'Arkansas', 'url': 'https://arkansasrazorbacks.com', 'type': 1},\n",
    "    {'name': 'Texas A&M', 'url': 'https://12thman.com', 'type': 1},\n",
    "    {'name': 'Tennessee', 'url': 'https://utsports.com', 'type': 1},\n",
    "    {'name': 'Florida', 'url': 'https://floridagators.com', 'type': 1},\n",
    "    {'name': 'Ole Miss', 'url': 'https://olemisssports.com', 'type': 1},\n",
    "    {'name': 'South Carolina', 'url': 'https://gamecocksonline.com', 'type': 1},\n",
    "    {'name': 'Mississippi State', 'url': 'https://hailstate.com', 'type': 1},\n",
    "    {'name': 'LSU', 'url': 'https://lsusports.net', 'type': 1}\n",
    "          ]"
   ]
  },
  {
   "cell_type": "markdown",
   "id": "92e76520-5b68-4312-886a-04edbc21b5d0",
   "metadata": {},
   "source": [
    "I give each school a `type` value so that we can designate how their website is structured, and scrape accordingly. I initialized all of these to $1$ and hardcoded them in as I went on depending on what I found when scraping the sites, and adjusted my scraping code accordingly."
   ]
  },
  {
   "cell_type": "code",
   "execution_count": 5,
   "id": "57bf2753-5583-4911-aef6-fa413fa0a12b",
   "metadata": {},
   "outputs": [],
   "source": [
    "sport_names = [\n",
    "    \"baseball\",\n",
    "    \"softball\",\n",
    "    \"mens-basketball\",\n",
    "    \"womens-basketball\",\n",
    "    \"cross-country\",\n",
    "    \"football\",\n",
    "    \"mens-golf\",\n",
    "    \"womens-golf\",\n",
    "    \"mens-swimming-and-diving\",\n",
    "    \"womens-swimming-and-diving\",\n",
    "    \"womens-gymnastics\",\n",
    "    \"womens-soccer\",\n",
    "    \"track-and-field\",\n",
    "    \"wrestling\",\n",
    "    \"mens-tennis\",\n",
    "    \"womens-tennis\",\n",
    "    \"womens-volleyball\"\n",
    "]"
   ]
  },
  {
   "cell_type": "markdown",
   "id": "a5fb1a06-a8a5-4fb2-8979-78b00b137da6",
   "metadata": {},
   "source": [
    "## Scraping Functions"
   ]
  },
  {
   "cell_type": "code",
   "execution_count": 9,
   "id": "51f0947b-d4fc-485f-8b05-b7e4651d80ae",
   "metadata": {},
   "outputs": [],
   "source": [
    "def scrape(BASE_URL, sport, type=1):\n",
    "    \n",
    "    # Selenium options\n",
    "    options = Options()\n",
    "    options.headless = True # Won't pop up browser when scraping, I just don't want to see it\n",
    "    driver = webdriver.Chrome(options=options, service=Service())\n",
    "\n",
    "    years = range(2010, 2024)\n",
    "\n",
    "    for year in years:\n",
    "        url = f\"{BASE_URL}/sports/{sport}/roster/{year}\"\n",
    "        driver.get(url)\n",
    "        tbls = driver.find_elements(\"tag name\", \"table\")\n",
    "        print(tbls)\n",
    "    \n"
   ]
  },
  {
   "cell_type": "code",
   "execution_count": 10,
   "id": "84b74d1f-8763-4aa5-88e2-f15749ab4b51",
   "metadata": {},
   "outputs": [
    {
     "ename": "WebDriverException",
     "evalue": "Message: Service /home/matt/.cache/selenium/chromedriver/linux64/118.0.5993.70/chromedriver unexpectedly exited. Status code was: 127\n",
     "output_type": "error",
     "traceback": [
      "\u001b[0;31m---------------------------------------------------------------------------\u001b[0m",
      "\u001b[0;31mWebDriverException\u001b[0m                        Traceback (most recent call last)",
      "Cell \u001b[0;32mIn[10], line 1\u001b[0m\n\u001b[0;32m----> 1\u001b[0m \u001b[43mscrape\u001b[49m\u001b[43m(\u001b[49m\u001b[43mschools\u001b[49m\u001b[43m[\u001b[49m\u001b[38;5;241;43m0\u001b[39;49m\u001b[43m]\u001b[49m\u001b[43m[\u001b[49m\u001b[38;5;124;43m\"\u001b[39;49m\u001b[38;5;124;43murl\u001b[39;49m\u001b[38;5;124;43m\"\u001b[39;49m\u001b[43m]\u001b[49m\u001b[43m,\u001b[49m\u001b[43m \u001b[49m\u001b[38;5;124;43m\"\u001b[39;49m\u001b[38;5;124;43mfootball\u001b[39;49m\u001b[38;5;124;43m\"\u001b[39;49m\u001b[43m)\u001b[49m\n",
      "Cell \u001b[0;32mIn[9], line 6\u001b[0m, in \u001b[0;36mscrape\u001b[0;34m(BASE_URL, sport, type)\u001b[0m\n\u001b[1;32m      4\u001b[0m options \u001b[38;5;241m=\u001b[39m Options()\n\u001b[1;32m      5\u001b[0m options\u001b[38;5;241m.\u001b[39mheadless \u001b[38;5;241m=\u001b[39m \u001b[38;5;28;01mTrue\u001b[39;00m \u001b[38;5;66;03m# Won't pop up browser when scraping, I just don't want to see it\u001b[39;00m\n\u001b[0;32m----> 6\u001b[0m driver \u001b[38;5;241m=\u001b[39m \u001b[43mwebdriver\u001b[49m\u001b[38;5;241;43m.\u001b[39;49m\u001b[43mChrome\u001b[49m\u001b[43m(\u001b[49m\u001b[43moptions\u001b[49m\u001b[38;5;241;43m=\u001b[39;49m\u001b[43moptions\u001b[49m\u001b[43m,\u001b[49m\u001b[43m \u001b[49m\u001b[43mservice\u001b[49m\u001b[38;5;241;43m=\u001b[39;49m\u001b[43mService\u001b[49m\u001b[43m(\u001b[49m\u001b[43m)\u001b[49m\u001b[43m)\u001b[49m\n\u001b[1;32m      8\u001b[0m years \u001b[38;5;241m=\u001b[39m \u001b[38;5;28mrange\u001b[39m(\u001b[38;5;241m2010\u001b[39m, \u001b[38;5;241m2024\u001b[39m)\n\u001b[1;32m     10\u001b[0m \u001b[38;5;28;01mfor\u001b[39;00m year \u001b[38;5;129;01min\u001b[39;00m years:\n",
      "File \u001b[0;32m~/.local/lib/python3.10/site-packages/selenium/webdriver/chrome/webdriver.py:45\u001b[0m, in \u001b[0;36mWebDriver.__init__\u001b[0;34m(self, options, service, keep_alive)\u001b[0m\n\u001b[1;32m     42\u001b[0m service \u001b[38;5;241m=\u001b[39m service \u001b[38;5;28;01mif\u001b[39;00m service \u001b[38;5;28;01melse\u001b[39;00m Service()\n\u001b[1;32m     43\u001b[0m options \u001b[38;5;241m=\u001b[39m options \u001b[38;5;28;01mif\u001b[39;00m options \u001b[38;5;28;01melse\u001b[39;00m Options()\n\u001b[0;32m---> 45\u001b[0m \u001b[38;5;28;43msuper\u001b[39;49m\u001b[43m(\u001b[49m\u001b[43m)\u001b[49m\u001b[38;5;241;43m.\u001b[39;49m\u001b[38;5;21;43m__init__\u001b[39;49m\u001b[43m(\u001b[49m\n\u001b[1;32m     46\u001b[0m \u001b[43m    \u001b[49m\u001b[43mDesiredCapabilities\u001b[49m\u001b[38;5;241;43m.\u001b[39;49m\u001b[43mCHROME\u001b[49m\u001b[43m[\u001b[49m\u001b[38;5;124;43m\"\u001b[39;49m\u001b[38;5;124;43mbrowserName\u001b[39;49m\u001b[38;5;124;43m\"\u001b[39;49m\u001b[43m]\u001b[49m\u001b[43m,\u001b[49m\n\u001b[1;32m     47\u001b[0m \u001b[43m    \u001b[49m\u001b[38;5;124;43m\"\u001b[39;49m\u001b[38;5;124;43mgoog\u001b[39;49m\u001b[38;5;124;43m\"\u001b[39;49m\u001b[43m,\u001b[49m\n\u001b[1;32m     48\u001b[0m \u001b[43m    \u001b[49m\u001b[43moptions\u001b[49m\u001b[43m,\u001b[49m\n\u001b[1;32m     49\u001b[0m \u001b[43m    \u001b[49m\u001b[43mservice\u001b[49m\u001b[43m,\u001b[49m\n\u001b[1;32m     50\u001b[0m \u001b[43m    \u001b[49m\u001b[43mkeep_alive\u001b[49m\u001b[43m,\u001b[49m\n\u001b[1;32m     51\u001b[0m \u001b[43m\u001b[49m\u001b[43m)\u001b[49m\n",
      "File \u001b[0;32m~/.local/lib/python3.10/site-packages/selenium/webdriver/chromium/webdriver.py:53\u001b[0m, in \u001b[0;36mChromiumDriver.__init__\u001b[0;34m(self, browser_name, vendor_prefix, options, service, keep_alive)\u001b[0m\n\u001b[1;32m     49\u001b[0m \u001b[38;5;28mself\u001b[39m\u001b[38;5;241m.\u001b[39mservice \u001b[38;5;241m=\u001b[39m service\n\u001b[1;32m     51\u001b[0m \u001b[38;5;28mself\u001b[39m\u001b[38;5;241m.\u001b[39mservice\u001b[38;5;241m.\u001b[39mpath \u001b[38;5;241m=\u001b[39m DriverFinder\u001b[38;5;241m.\u001b[39mget_path(\u001b[38;5;28mself\u001b[39m\u001b[38;5;241m.\u001b[39mservice, options)\n\u001b[0;32m---> 53\u001b[0m \u001b[38;5;28;43mself\u001b[39;49m\u001b[38;5;241;43m.\u001b[39;49m\u001b[43mservice\u001b[49m\u001b[38;5;241;43m.\u001b[39;49m\u001b[43mstart\u001b[49m\u001b[43m(\u001b[49m\u001b[43m)\u001b[49m\n\u001b[1;32m     55\u001b[0m \u001b[38;5;28;01mtry\u001b[39;00m:\n\u001b[1;32m     56\u001b[0m     \u001b[38;5;28msuper\u001b[39m()\u001b[38;5;241m.\u001b[39m\u001b[38;5;21m__init__\u001b[39m(\n\u001b[1;32m     57\u001b[0m         command_executor\u001b[38;5;241m=\u001b[39mChromiumRemoteConnection(\n\u001b[1;32m     58\u001b[0m             remote_server_addr\u001b[38;5;241m=\u001b[39m\u001b[38;5;28mself\u001b[39m\u001b[38;5;241m.\u001b[39mservice\u001b[38;5;241m.\u001b[39mservice_url,\n\u001b[0;32m   (...)\u001b[0m\n\u001b[1;32m     64\u001b[0m         options\u001b[38;5;241m=\u001b[39moptions,\n\u001b[1;32m     65\u001b[0m     )\n",
      "File \u001b[0;32m~/.local/lib/python3.10/site-packages/selenium/webdriver/common/service.py:102\u001b[0m, in \u001b[0;36mService.start\u001b[0;34m(self)\u001b[0m\n\u001b[1;32m    100\u001b[0m count \u001b[38;5;241m=\u001b[39m \u001b[38;5;241m0\u001b[39m\n\u001b[1;32m    101\u001b[0m \u001b[38;5;28;01mwhile\u001b[39;00m \u001b[38;5;28;01mTrue\u001b[39;00m:\n\u001b[0;32m--> 102\u001b[0m     \u001b[38;5;28;43mself\u001b[39;49m\u001b[38;5;241;43m.\u001b[39;49m\u001b[43massert_process_still_running\u001b[49m\u001b[43m(\u001b[49m\u001b[43m)\u001b[49m\n\u001b[1;32m    103\u001b[0m     \u001b[38;5;28;01mif\u001b[39;00m \u001b[38;5;28mself\u001b[39m\u001b[38;5;241m.\u001b[39mis_connectable():\n\u001b[1;32m    104\u001b[0m         \u001b[38;5;28;01mbreak\u001b[39;00m\n",
      "File \u001b[0;32m~/.local/lib/python3.10/site-packages/selenium/webdriver/common/service.py:115\u001b[0m, in \u001b[0;36mService.assert_process_still_running\u001b[0;34m(self)\u001b[0m\n\u001b[1;32m    113\u001b[0m return_code \u001b[38;5;241m=\u001b[39m \u001b[38;5;28mself\u001b[39m\u001b[38;5;241m.\u001b[39mprocess\u001b[38;5;241m.\u001b[39mpoll()\n\u001b[1;32m    114\u001b[0m \u001b[38;5;28;01mif\u001b[39;00m return_code:\n\u001b[0;32m--> 115\u001b[0m     \u001b[38;5;28;01mraise\u001b[39;00m WebDriverException(\u001b[38;5;124mf\u001b[39m\u001b[38;5;124m\"\u001b[39m\u001b[38;5;124mService \u001b[39m\u001b[38;5;132;01m{\u001b[39;00m\u001b[38;5;28mself\u001b[39m\u001b[38;5;241m.\u001b[39m_path\u001b[38;5;132;01m}\u001b[39;00m\u001b[38;5;124m unexpectedly exited. Status code was: \u001b[39m\u001b[38;5;132;01m{\u001b[39;00mreturn_code\u001b[38;5;132;01m}\u001b[39;00m\u001b[38;5;124m\"\u001b[39m)\n",
      "\u001b[0;31mWebDriverException\u001b[0m: Message: Service /home/matt/.cache/selenium/chromedriver/linux64/118.0.5993.70/chromedriver unexpectedly exited. Status code was: 127\n"
     ]
    }
   ],
   "source": [
    "scrape(schools[0][\"url\"], \"football\")"
   ]
  },
  {
   "cell_type": "code",
   "execution_count": null,
   "id": "0108c35f-fd46-42ea-a6d3-4bbfaba4968a",
   "metadata": {},
   "outputs": [],
   "source": []
  }
 ],
 "metadata": {
  "kernelspec": {
   "display_name": "Python 3 (ipykernel)",
   "language": "python",
   "name": "python3"
  },
  "language_info": {
   "codemirror_mode": {
    "name": "ipython",
    "version": 3
   },
   "file_extension": ".py",
   "mimetype": "text/x-python",
   "name": "python",
   "nbconvert_exporter": "python",
   "pygments_lexer": "ipython3",
   "version": "3.10.12"
  }
 },
 "nbformat": 4,
 "nbformat_minor": 5
}
